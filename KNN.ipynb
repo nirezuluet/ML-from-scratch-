{
  "nbformat": 4,
  "nbformat_minor": 0,
  "metadata": {
    "colab": {
      "provenance": [],
      "authorship_tag": "ABX9TyMzRbcercWzanLfx1tZfXCI",
      "include_colab_link": true
    },
    "kernelspec": {
      "name": "python3",
      "display_name": "Python 3"
    },
    "language_info": {
      "name": "python"
    }
  },
  "cells": [
    {
      "cell_type": "markdown",
      "metadata": {
        "id": "view-in-github",
        "colab_type": "text"
      },
      "source": [
        "<a href=\"https://colab.research.google.com/github/nirezuluet/ML-from-scratch-/blob/main/KNN.ipynb\" target=\"_parent\"><img src=\"https://colab.research.google.com/assets/colab-badge.svg\" alt=\"Open In Colab\"/></a>"
      ]
    },
    {
      "cell_type": "code",
      "execution_count": 1,
      "metadata": {
        "id": "YWFgC_frM6Gp"
      },
      "outputs": [],
      "source": [
        "# implementation of KNN from scratch\n",
        "\n",
        "import numpy as np\n",
        "import math\n",
        "from collections import Counter"
      ]
    },
    {
      "cell_type": "code",
      "source": [
        "def euclidean_distance(x_1, x_2):\n",
        "  distance = math.sqrt(np.sum((x_1 - x_2)**2))\n",
        "  return distance\n",
        "\n",
        "def manhattan_distance(x_1, x_2):\n",
        "  distance = np.sum(abs(x_1 - x_2))\n",
        "  return distance\n",
        "\n",
        "def cosine_similarity(x_1, x_2):\n",
        "  dot_product = np.dot(x_1, x_2)\n",
        "  norm_x_1 = math.sqrt(x_1**2)\n",
        "  norm_x_2 = math.sqrt(x_2**2)\n",
        "\n",
        "  if norm_x_1 == 0 or norm_x_2 == 0:\n",
        "    return 0\n",
        "\n",
        "  distance = dot_product/(norm_x_1 * norm_x_2)\n",
        "  return distance\n",
        "\n",
        "def hamming_distance(x_1, x_2):\n",
        "  distance  = np.sum(np.array(x_1) != np.array(x_2)) #counting the elements that are different\n",
        "  return distance"
      ],
      "metadata": {
        "id": "N7E0wbzHPDm6"
      },
      "execution_count": 7,
      "outputs": []
    },
    {
      "cell_type": "code",
      "source": [
        "class KNN:\n",
        "\n",
        "  def __init__(self, k, distance_function):\n",
        "    self.k = k\n",
        "    self.distance_function = distance_function\n",
        "\n",
        "  def fit(self, X_train, y_train):\n",
        "    self.X_train = X_train\n",
        "    self.y_train = y_train\n",
        "\n",
        "  def predict(self, x):\n",
        "\n",
        "    # compute the distance of point x to all data points in the training set\n",
        "    distances = [self.distance_function(x,x_train) for x_train in self.X_train]\n",
        "\n",
        "    # choose the k closest data points to x\n",
        "    # function np.argsort returns the indexes of the sorted array\n",
        "    k_closest_samples_index = np.argsort(distances)[:self.k]\n",
        "\n",
        "    # let's suppose it is a classification problem\n",
        "    k_closest_labels = [self.y_train[index] for index in k_closest_samples_index]\n",
        "\n",
        "    #majority vote\n",
        "    most_common_label = Counter(k_closest_labels).most_common()\n",
        "    return most_common_label\n"
      ],
      "metadata": {
        "id": "9_lkT7BWNF63"
      },
      "execution_count": 8,
      "outputs": []
    }
  ]
}