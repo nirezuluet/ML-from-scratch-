{
  "nbformat": 4,
  "nbformat_minor": 0,
  "metadata": {
    "colab": {
      "provenance": [],
      "authorship_tag": "ABX9TyMyUwm1bJj+l4x6EUyHfvL5",
      "include_colab_link": true
    },
    "kernelspec": {
      "name": "python3",
      "display_name": "Python 3"
    },
    "language_info": {
      "name": "python"
    }
  },
  "cells": [
    {
      "cell_type": "markdown",
      "metadata": {
        "id": "view-in-github",
        "colab_type": "text"
      },
      "source": [
        "<a href=\"https://colab.research.google.com/github/nirezuluet/ML-from-scratch-/blob/main/KNN.ipynb\" target=\"_parent\"><img src=\"https://colab.research.google.com/assets/colab-badge.svg\" alt=\"Open In Colab\"/></a>"
      ]
    },
    {
      "cell_type": "code",
      "execution_count": 21,
      "metadata": {
        "id": "YWFgC_frM6Gp"
      },
      "outputs": [],
      "source": [
        "# implementation of KNN from scratch\n",
        "import numpy as np\n",
        "import math"
      ]
    },
    {
      "cell_type": "code",
      "source": [
        "def compute_distance(x, y):\n",
        "  # return the euclidean distance between x and y\n",
        "  return math.sqrt(np.sum((x - y)**2))"
      ],
      "metadata": {
        "id": "7uujIhfJmq51"
      },
      "execution_count": 22,
      "outputs": []
    },
    {
      "cell_type": "code",
      "source": [
        "def most_frequent(list_):\n",
        "  #return the most frequent element in the list\n",
        "\n",
        "  #fist create a dictionary for counting the total number of ocurrences of each element\n",
        "  counter = {}\n",
        "\n",
        "  for item in list_:\n",
        "    counter[item] = counter.get(item,0) + 1\n",
        "\n",
        "  #now getting the item with the maximum count\n",
        "  counter_list = list(counter.items()) #this give me a list of tuples of the form <key,val>\n",
        "  counter_list.sort(key= lambda x: x[1], reverse= True)\n",
        "\n",
        "  return counter_list[0][0] #this is the most frequent label\n",
        "\n",
        "\n",
        "\n"
      ],
      "metadata": {
        "id": "EszGgsOlnDqn"
      },
      "execution_count": 23,
      "outputs": []
    },
    {
      "cell_type": "code",
      "source": [
        "class KNN:\n",
        "\n",
        "  def __init__(self, k):\n",
        "    self.k = k\n",
        "\n",
        "  def fit(self, X, y):\n",
        "    self.X = X\n",
        "    self.y = y\n",
        "\n",
        "\n",
        "  def predict(self, x):\n",
        "\n",
        "    # find the distance of x to each sample of the training set\n",
        "    distances = [compute_distance(x, training_sample) for training_sample in self.X]\n",
        "\n",
        "    #sorting the training_samples according to distance values\n",
        "    sorted_samples= np.argsort(distances)\n",
        "\n",
        "    #getting the top k samples from the list\n",
        "    top_k = self.y[sorted_samples[:self.k]]\n",
        "\n",
        "    #getting the most popular k labels\n",
        "    return most_frequent(top_k)"
      ],
      "metadata": {
        "id": "N7E0wbzHPDm6"
      },
      "execution_count": 25,
      "outputs": []
    },
    {
      "cell_type": "code",
      "source": [
        "import matplotlib.pyplot as plt\n",
        "\n",
        "# Training data (features: x, y)\n",
        "X_train = np.array([\n",
        "    [1, 2], [2, 3], [3, 3], [5, 5], [6, 7], [7, 8]\n",
        "])\n",
        "\n",
        "# Labels (0 = Red, 1 = Blue)\n",
        "y_train = np.array([0, 0, 0, 1, 1, 1])\n",
        "\n",
        "# New point to classify\n",
        "X_test = np.array([[2.5, 2.5]])\n",
        "\n",
        "# Visualizing the dataset\n",
        "plt.scatter(X_train[y_train == 0][:, 0], X_train[y_train == 0][:, 1], color=\"red\", label=\"Class A (0)\")\n",
        "plt.scatter(X_train[y_train == 1][:, 0], X_train[y_train == 1][:, 1], color=\"blue\", label=\"Class B (1)\")\n",
        "plt.scatter(X_test[:, 0], X_test[:, 1], color=\"green\", marker=\"x\", s=100, label=\"New Point\")\n",
        "\n",
        "plt.legend()\n",
        "plt.xlabel(\"Feature 1\")\n",
        "plt.ylabel(\"Feature 2\")\n",
        "plt.title(\"Toy Dataset for KNN\")\n",
        "plt.show()"
      ],
      "metadata": {
        "id": "9_lkT7BWNF63",
        "colab": {
          "base_uri": "https://localhost:8080/",
          "height": 472
        },
        "outputId": "8f213659-a23e-4a0b-ece7-421bbdae3237"
      },
      "execution_count": 19,
      "outputs": [
        {
          "output_type": "display_data",
          "data": {
            "text/plain": [
              "<Figure size 640x480 with 1 Axes>"
            ],
            "image/png": "[encoded data removed]"
          },
          "metadata": {}
        }
      ]
    },
    {
      "cell_type": "code",
      "source": [
        "knn = KNN(3)\n",
        "knn.fit(X_train, y_train)\n",
        "label = knn.predict(X_test)\n",
        "print(label)"
      ],
      "metadata": {
        "colab": {
          "base_uri": "https://localhost:8080/"
        },
        "id": "oS2gYCCgpz_t",
        "outputId": "f3fca54d-da14-4a4b-e276-ffed0c5e99dc"
      },
      "execution_count": 26,
      "outputs": [
        {
          "output_type": "stream",
          "name": "stdout",
          "text": [
            "[0 0 0]\n",
            "0\n"
          ]
        }
      ]
    }
  ]
}