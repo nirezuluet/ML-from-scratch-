{
  "nbformat": 4,
  "nbformat_minor": 0,
  "metadata": {
    "colab": {
      "provenance": [],
      "authorship_tag": "ABX9TyMLxBEnWmiPglpYayyljriE",
      "include_colab_link": true
    },
    "kernelspec": {
      "name": "python3",
      "display_name": "Python 3"
    },
    "language_info": {
      "name": "python"
    }
  },
  "cells": [
    {
      "cell_type": "markdown",
      "metadata": {
        "id": "view-in-github",
        "colab_type": "text"
      },
      "source": [
        "<a href=\"https://colab.research.google.com/github/nirezuluet/ML-from-scratch-/blob/main/LogisticRegression.ipynb\" target=\"_parent\"><img src=\"https://colab.research.google.com/assets/colab-badge.svg\" alt=\"Open In Colab\"/></a>"
      ]
    },
    {
      "cell_type": "code",
      "execution_count": 1,
      "metadata": {
        "id": "boJBWV3jE8GR"
      },
      "outputs": [],
      "source": [
        "import numpy as np"
      ]
    },
    {
      "cell_type": "code",
      "source": [
        "def log_function(x):\n",
        "  return 1/(1 + np.exp(-x))"
      ],
      "metadata": {
        "id": "q3QsE5JAF5ox"
      },
      "execution_count": 2,
      "outputs": []
    },
    {
      "cell_type": "code",
      "source": [
        "class LogisticRegression:\n",
        "\n",
        "  def __init__(self, n_iter = 100, lr= 0.001):\n",
        "    self.n_iter = n_iter\n",
        "    self.lr = lr\n",
        "    self.weights = None\n",
        "    self.bias = None\n",
        "\n",
        "\n",
        "  def fit(self, X_train, y_train):\n",
        "\n",
        "    n_samples, n_features =X_train.shape\n",
        "    self.weights = np.zeros(n_features)\n",
        "    self.bias = 0\n",
        "\n",
        "\n",
        "    for _ in range(self.n_iter):\n",
        "\n",
        "\n",
        "      #getting the initial y_pred\n",
        "      y_pred = np.dot(X_train, self.weights) + self.bias\n",
        "      y_pred = log_function(y_pred)\n",
        "\n",
        "\n",
        "      #compute the gradient of weights\n",
        "      dw = (1/n_samples) * np.dot(X_train.T, (y_pred - y_train))\n",
        "      db = (1/n_samples) * np.sum((y_pred - y_train))\n",
        "\n",
        "      #updating weights and bias\n",
        "      self.weights = self.weights - self.lr*dw\n",
        "      self.bias = self.bias - self.lr*db\n",
        "\n",
        "\n",
        "  def predict(self, X):\n",
        "    y_pred = np.dot(X, self.weights) + self.bias\n",
        "    y_pred = log_function(y_pred)\n",
        "    labels = [1 if val > 0.5 else 0 for val in y_pred]\n",
        "    return labels\n",
        "\n",
        "\n",
        "\n",
        "\n",
        "\n",
        ""
      ],
      "metadata": {
        "id": "NYyf9bKqFP54"
      },
      "execution_count": 19,
      "outputs": []
    },
    {
      "cell_type": "code",
      "source": [
        "from sklearn.model_selection import train_test_split\n",
        "from sklearn import datasets\n",
        "import matplotlib.pyplot as plt\n",
        "\n",
        "bc= datasets.load_breast_cancer()\n",
        "X, y = bc.data, bc.target\n",
        "\n",
        "X_train, X_test, y_train, y_test = train_test_split(X, y, test_size=0.2, random_state=1234)\n",
        "\n",
        "clf = LogisticRegression(n_iter=1000, lr=0.01)\n",
        "clf.fit(X_train, y_train)\n",
        "predict_labels = clf.predict(X_test)\n",
        "\n",
        "def accuracy(y_pred, y_test):\n",
        "  return np.sum(y_pred == y_test)/len(y_test)\n",
        "\n",
        "accuracy(predict_labels, y_test)"
      ],
      "metadata": {
        "colab": {
          "base_uri": "https://localhost:8080/"
        },
        "id": "bIIOZiA7J3f0",
        "outputId": "d9096feb-736d-4d2f-c90a-df651129b2c6"
      },
      "execution_count": 20,
      "outputs": [
        {
          "output_type": "stream",
          "name": "stderr",
          "text": [
            "<ipython-input-2-3c945c7094f2>:2: RuntimeWarning: overflow encountered in exp\n",
            "  return 1/(1 + np.exp(-x))\n"
          ]
        },
        {
          "output_type": "execute_result",
          "data": {
            "text/plain": [
              "np.float64(0.9210526315789473)"
            ]
          },
          "metadata": {},
          "execution_count": 20
        }
      ]
    }
  ]
}